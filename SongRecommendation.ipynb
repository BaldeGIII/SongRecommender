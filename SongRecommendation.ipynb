{
  "cells": [
    {
      "cell_type": "code",
      "execution_count": 2,
      "metadata": {
        "id": "BfN6iS6NwNec"
      },
      "outputs": [],
      "source": [
        "import spotipy\n",
        "from spotipy.oauth2 import SpotifyClientCredentials\n",
        "import pandas as pd\n",
        "import time\n",
        "import os\n",
        "from dotenv import load_dotenv"
      ]
    },
    {
      "cell_type": "code",
      "execution_count": 3,
      "metadata": {},
      "outputs": [
        {
          "name": "stdout",
          "output_type": "stream",
          "text": [
            "Project root identified as: c:\\Users\\balde\\SongRecommendation\n",
            "Attempting to load .env file from: c:\\Users\\balde\\SongRecommendation\\.env\n",
            "Successfully loaded .env file from: c:\\Users\\balde\\SongRecommendation\\.env\n",
            "Successfully authenticated with Spotify API!\n"
          ]
        }
      ],
      "source": [
        "# --- Determine Project Root and .env Path ---\n",
        "# This logic assumes your project root is where the .git folder would be,\n",
        "# and your .env file is directly in that root.\n",
        "# For your structure: c:\\Users\\balde\\SongRecommendation\\\n",
        "\n",
        "# Get the directory of the current notebook.\n",
        "# If __file__ is defined (e.g. running as script), use its directory.\n",
        "# Otherwise (interactive notebook), use current working directory.\n",
        "notebook_dir = os.path.dirname(os.path.abspath(__file__)) if '__file__' in locals() else os.getcwd()\n",
        "\n",
        "# Define project_root based on common structures.\n",
        "# If notebook is in 'c:\\Users\\balde\\SongRecommendation\\SongRecommendation.ipynb'\n",
        "# or 'c:\\Users\\balde\\SongRecommendation\\some_subfolder\\SongRecommendation.ipynb'\n",
        "# we want project_root to be 'c:\\Users\\balde\\SongRecommendation\\'\n",
        "# A simple way is to assume the .env file is in the parent of the notebook's directory,\n",
        "# or the current directory if the notebook is already in the root.\n",
        "\n",
        "# Try to locate the .env file by checking common project root locations relative to the notebook\n",
        "# This assumes your .env file is at c:\\Users\\balde\\SongRecommendation\\.env\n",
        "project_root_candidate = os.path.abspath(\"c:/Users/balde/SongRecommendation\") # Explicitly set your known project root\n",
        "\n",
        "dotenv_path = os.path.join(project_root_candidate, '.env')\n",
        "\n",
        "if not os.path.exists(dotenv_path):\n",
        "    # Fallback if the explicit path is wrong or notebook is run from an unexpected CWD\n",
        "    # Try current working directory\n",
        "    dotenv_path_cwd = os.path.join(os.getcwd(), '.env')\n",
        "    if os.path.exists(dotenv_path_cwd):\n",
        "        dotenv_path = dotenv_path_cwd\n",
        "        project_root_candidate = os.getcwd() # Update project_root if .env found in CWD\n",
        "    else:\n",
        "        # Try one level up from CWD (if notebook is in a subfolder of the project root)\n",
        "        dotenv_path_parent = os.path.join(os.path.abspath(os.path.join(os.getcwd(), '..')), '.env')\n",
        "        if os.path.exists(dotenv_path_parent):\n",
        "            dotenv_path = dotenv_path_parent\n",
        "            project_root_candidate = os.path.abspath(os.path.join(os.getcwd(), '..')) # Update project_root\n",
        "        else:\n",
        "            print(f\"Warning: .env file not found at explicit path '{dotenv_path}', nor in CWD or parent of CWD.\")\n",
        "            # As a last resort, if the notebook is in a subfolder of the known root:\n",
        "            if notebook_dir.startswith(project_root_candidate) and notebook_dir != project_root_candidate:\n",
        "                 dotenv_path = os.path.join(project_root_candidate, '.env') # Re-assert known root\n",
        "            # else: project_root_candidate remains the explicit path for saving files later\n",
        "\n",
        "# Use the determined project_root_candidate for saving files later\n",
        "project_root = project_root_candidate\n",
        "print(f\"Project root identified as: {project_root}\")\n",
        "print(f\"Attempting to load .env file from: {dotenv_path}\")\n",
        "\n",
        "if os.path.exists(dotenv_path) and load_dotenv(dotenv_path=dotenv_path):\n",
        "    print(f\"Successfully loaded .env file from: {dotenv_path}\")\n",
        "else:\n",
        "    print(f\"Failed to load .env file from {dotenv_path}. Trying default load_dotenv().\")\n",
        "    if load_dotenv(): # Tries to find .env in CWD or parent if path not specified\n",
        "        print(\"Successfully loaded .env file using default search.\")\n",
        "        # If default search worked, .env might be in CWD. Update project_root if needed for consistency.\n",
        "        if os.path.exists(os.path.join(os.getcwd(), '.env')):\n",
        "            project_root = os.getcwd()\n",
        "            print(f\"Updated project root to current working directory: {project_root}\")\n",
        "    else:\n",
        "        print(\"Failed to load .env file using default search as well.\")\n",
        "        print(f\"Please ensure '.env' exists at '{os.path.join(project_root, '.env')}' or in your current working directory, and contains your credentials.\")\n",
        "\n",
        "\n",
        "CLIENT_ID = os.getenv('SPOTIPY_CLIENT_ID')\n",
        "CLIENT_SECRET = os.getenv('SPOTIPY_CLIENT_SECRET')\n",
        "\n",
        "sp = None # Initialize sp\n",
        "if CLIENT_ID and CLIENT_SECRET:\n",
        "    try:\n",
        "        client_credentials_manager = SpotifyClientCredentials(client_id=CLIENT_ID, client_secret=CLIENT_SECRET)\n",
        "        sp = spotipy.Spotify(client_credentials_manager=client_credentials_manager)\n",
        "        print(\"Successfully authenticated with Spotify API!\")\n",
        "    except Exception as e:\n",
        "        print(f\"Error during authentication: {e}\")\n",
        "else:\n",
        "    print(\"Error: SPOTIPY_CLIENT_ID or SPOTIPY_CLIENT_SECRET not found in environment variables.\")\n",
        "    print(\"Please check your .env file loading and its content.\")"
      ]
    }
  ],
  "metadata": {
    "accelerator": "GPU",
    "colab": {
      "authorship_tag": "ABX9TyOS5vHjjhcl78Ei56U5hmyy",
      "gpuType": "T4",
      "include_colab_link": true,
      "provenance": []
    },
    "kernelspec": {
      "display_name": ".venv",
      "language": "python",
      "name": "python3"
    },
    "language_info": {
      "codemirror_mode": {
        "name": "ipython",
        "version": 3
      },
      "file_extension": ".py",
      "mimetype": "text/x-python",
      "name": "python",
      "nbconvert_exporter": "python",
      "pygments_lexer": "ipython3",
      "version": "3.13.1"
    }
  },
  "nbformat": 4,
  "nbformat_minor": 0
}
